{
  "nbformat": 4,
  "nbformat_minor": 0,
  "metadata": {
    "colab": {
      "provenance": []
    },
    "kernelspec": {
      "name": "python3",
      "display_name": "Python 3"
    },
    "language_info": {
      "name": "python"
    }
  },
  "cells": [
    {
      "cell_type": "code",
      "execution_count": null,
      "metadata": {
        "id": "ICP8FyAWtpfh"
      },
      "outputs": [],
      "source": [
        "import tensorflow as tf\n",
        "from tensorflow import keras\n",
        "from tensorflow.keras import layers\n",
        "from tensorflow.keras.preprocessing.image import ImageDataGenerator\n",
        "IMG_SIZE=244\n",
        "BATCH_SIZE=32"
      ]
    },
    {
      "cell_type": "code",
      "source": [
        "train_datagen=ImageDataGenerator(\n",
        "    rescale=1./255,\n",
        "    validation_split=0.2\n",
        ")\n",
        "train_generator = train_datagen.flow_from_directory(\n",
        "    '/content/drive/MyDrive/DATASET/brain tumer/train',\n",
        "    target_size=(IMG_SIZE,IMG_SIZE),\n",
        "    batch_size=BATCH_SIZE,\n",
        "    class_mode='binary',\n",
        "    subset='training'\n",
        ")\n",
        "val_generator=train_datagen.flow_from_directory(\n",
        "    '/content/drive/MyDrive/DATASET/brain tumer/train',\n",
        "    target_size=(IMG_SIZE,IMG_SIZE),\n",
        "    batch_size=BATCH_SIZE,\n",
        "    class_mode='binary',\n",
        "    subset='validation'\n",
        ")\n",
        "test_datagen=ImageDataGenerator(rescale=1./255)\n",
        "test_generator=test_datagen.flow_from_directory(\n",
        "    '/content/drive/MyDrive/DATASET/brain tumer/test',\n",
        "    target_size=(IMG_SIZE,IMG_SIZE),\n",
        "    batch_size=BATCH_SIZE,\n",
        "    class_mode='binary',\n",
        ")"
      ],
      "metadata": {
        "colab": {
          "base_uri": "https://localhost:8080/"
        },
        "id": "RyoTHaF52I6B",
        "outputId": "2f91433b-89c3-4201-8bef-f004cca4567b"
      },
      "execution_count": null,
      "outputs": [
        {
          "output_type": "stream",
          "name": "stdout",
          "text": [
            "Found 1129 images belonging to 2 classes.\n",
            "Found 281 images belonging to 2 classes.\n",
            "Found 60 images belonging to 1 classes.\n"
          ]
        }
      ]
    },
    {
      "cell_type": "code",
      "source": [
        "#define the model\n",
        "model=keras.Sequential([\n",
        "    layers.Conv2D(32,(3,3),activation='relu',input_shape=(IMG_SIZE,IMG_SIZE,3)),\n",
        "    layers.MaxPooling2D((2,2)),\n",
        "    layers.Conv2D(64,(3,3),activation='relu'),\n",
        "    layers.MaxPooling2D((2,2)),\n",
        "    layers.Conv2D(128,(3,3),activation='relu'),\n",
        "    layers.MaxPooling2D((2,2)),\n",
        "    layers.Flatten(),\n",
        "    layers.Dense(128, activation='relu'),\n",
        "    layers.Dense(1, activation='sigmoid')\n",
        "])"
      ],
      "metadata": {
        "id": "KfgX6FRa7xvB"
      },
      "execution_count": null,
      "outputs": []
    },
    {
      "cell_type": "code",
      "source": [
        "#compile\n",
        "model.compile(optimizer='adam',loss='binary_crossentropy',metrics=['accuracy'])"
      ],
      "metadata": {
        "id": "XkPHU2_u-x3Y"
      },
      "execution_count": null,
      "outputs": []
    },
    {
      "cell_type": "code",
      "source": [
        "history=model.fit(train_generator,validation_data=val_generator,epochs=5)"
      ],
      "metadata": {
        "colab": {
          "base_uri": "https://localhost:8080/"
        },
        "id": "cswMTI0zBkgQ",
        "outputId": "bb60be59-b406-48ea-c9b6-28fa72b50a09"
      },
      "execution_count": null,
      "outputs": [
        {
          "output_type": "stream",
          "name": "stdout",
          "text": [
            "Epoch 1/5\n",
            "36/36 [==============================] - 177s 5s/step - loss: 0.6044 - accuracy: 0.7192 - val_loss: 0.4104 - val_accuracy: 0.7972\n",
            "Epoch 2/5\n",
            "36/36 [==============================] - 170s 5s/step - loss: 0.3344 - accuracy: 0.8609 - val_loss: 0.2303 - val_accuracy: 0.9110\n",
            "Epoch 3/5\n",
            "36/36 [==============================] - 177s 5s/step - loss: 0.1979 - accuracy: 0.9265 - val_loss: 0.1117 - val_accuracy: 0.9680\n",
            "Epoch 4/5\n",
            "36/36 [==============================] - 177s 5s/step - loss: 0.1172 - accuracy: 0.9566 - val_loss: 0.1223 - val_accuracy: 0.9502\n",
            "Epoch 5/5\n",
            "36/36 [==============================] - 180s 5s/step - loss: 0.0958 - accuracy: 0.9717 - val_loss: 0.1420 - val_accuracy: 0.9431\n"
          ]
        }
      ]
    },
    {
      "cell_type": "code",
      "source": [
        "model.save(\"Model.h5\",\"label.txt\")"
      ],
      "metadata": {
        "colab": {
          "base_uri": "https://localhost:8080/"
        },
        "id": "4OEBpt6WufUa",
        "outputId": "b3856a59-b2ef-473d-95f3-0b784f41aa7c"
      },
      "execution_count": null,
      "outputs": [
        {
          "output_type": "stream",
          "name": "stderr",
          "text": [
            "/usr/local/lib/python3.10/dist-packages/keras/src/engine/training.py:3103: UserWarning: You are saving your model as an HDF5 file via `model.save()`. This file format is considered legacy. We recommend using instead the native Keras format, e.g. `model.save('my_model.keras')`.\n",
            "  saving_api.save_model(\n"
          ]
        }
      ]
    },
    {
      "cell_type": "code",
      "source": [
        "from tensorflow.keras.models import load_model\n",
        "from tensorflow.keras.preprocessing import image\n",
        "import numpy as np\n",
        "model=load_model('/content/Model.h5')\n",
        "test_image_path='/content/drive/MyDrive/DATASET/brain tumer/train/no/No19.jpg'\n",
        "img=image.load_img(test_image_path,target_size=(244,244))\n",
        "img_array=image.img_to_array(img)\n",
        "img_array=np.expand_dims(img_array,axis=0)\n",
        "img_array/=255.\n",
        "prediction=model.predict(img_array)\n",
        "if prediction < 0.5:\n",
        "  print(\"Prediction: No Tumour (Probability:\",prediction[0][0],\")\")\n",
        "else:\n",
        "  print(\"Prediction: Tumour present (Probability:\",prediction[0][0],\")\")"
      ],
      "metadata": {
        "colab": {
          "base_uri": "https://localhost:8080/"
        },
        "id": "NOxwG5Ydu2h3",
        "outputId": "568376c1-0ddd-400a-bc03-4611c091674d"
      },
      "execution_count": null,
      "outputs": [
        {
          "output_type": "stream",
          "name": "stdout",
          "text": [
            "1/1 [==============================] - 0s 183ms/step\n",
            "Prediction: No Tumour (Probability: 5.343932e-09 )\n"
          ]
        }
      ]
    }
  ]
}